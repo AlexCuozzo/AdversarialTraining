{
  "nbformat": 4,
  "nbformat_minor": 0,
  "metadata": {
    "kernelspec": {
      "display_name": "Python 3",
      "language": "python",
      "name": "python3"
    },
    "language_info": {
      "codemirror_mode": {
        "name": "ipython",
        "version": 3
      },
      "file_extension": ".py",
      "mimetype": "text/x-python",
      "name": "python",
      "nbconvert_exporter": "python",
      "pygments_lexer": "ipython3",
      "version": "3.7.7"
    },
    "colab": {
      "name": "adversarial_training.ipynb",
      "provenance": [],
      "toc_visible": true
    },
    "accelerator": "GPU",
    "widgets": {
      "application/vnd.jupyter.widget-state+json": {
        "bd489903c109465d97069133f264d5f3": {
          "model_module": "@jupyter-widgets/controls",
          "model_name": "HBoxModel",
          "state": {
            "_view_name": "HBoxView",
            "_dom_classes": [],
            "_model_name": "HBoxModel",
            "_view_module": "@jupyter-widgets/controls",
            "_model_module_version": "1.5.0",
            "_view_count": null,
            "_view_module_version": "1.5.0",
            "box_style": "",
            "layout": "IPY_MODEL_bdc6c0070ecd4e0fa405236f7a75a83b",
            "_model_module": "@jupyter-widgets/controls",
            "children": [
              "IPY_MODEL_dabf2c50921346ee83d9140bde2189d1",
              "IPY_MODEL_6160653561b4457e9b356d733497e4df"
            ]
          }
        },
        "bdc6c0070ecd4e0fa405236f7a75a83b": {
          "model_module": "@jupyter-widgets/base",
          "model_name": "LayoutModel",
          "state": {
            "_view_name": "LayoutView",
            "grid_template_rows": null,
            "right": null,
            "justify_content": null,
            "_view_module": "@jupyter-widgets/base",
            "overflow": null,
            "_model_module_version": "1.2.0",
            "_view_count": null,
            "flex_flow": null,
            "width": null,
            "min_width": null,
            "border": null,
            "align_items": null,
            "bottom": null,
            "_model_module": "@jupyter-widgets/base",
            "top": null,
            "grid_column": null,
            "overflow_y": null,
            "overflow_x": null,
            "grid_auto_flow": null,
            "grid_area": null,
            "grid_template_columns": null,
            "flex": null,
            "_model_name": "LayoutModel",
            "justify_items": null,
            "grid_row": null,
            "max_height": null,
            "align_content": null,
            "visibility": null,
            "align_self": null,
            "height": null,
            "min_height": null,
            "padding": null,
            "grid_auto_rows": null,
            "grid_gap": null,
            "max_width": null,
            "order": null,
            "_view_module_version": "1.2.0",
            "grid_template_areas": null,
            "object_position": null,
            "object_fit": null,
            "grid_auto_columns": null,
            "margin": null,
            "display": null,
            "left": null
          }
        },
        "dabf2c50921346ee83d9140bde2189d1": {
          "model_module": "@jupyter-widgets/controls",
          "model_name": "FloatProgressModel",
          "state": {
            "_view_name": "ProgressView",
            "style": "IPY_MODEL_53753f31c85e436aa25304c827d09cf6",
            "_dom_classes": [],
            "description": "",
            "_model_name": "FloatProgressModel",
            "bar_style": "info",
            "max": 1,
            "_view_module": "@jupyter-widgets/controls",
            "_model_module_version": "1.5.0",
            "value": 1,
            "_view_count": null,
            "_view_module_version": "1.5.0",
            "orientation": "horizontal",
            "min": 0,
            "description_tooltip": null,
            "_model_module": "@jupyter-widgets/controls",
            "layout": "IPY_MODEL_582443cfb25740648aae6379b7c39b40"
          }
        },
        "6160653561b4457e9b356d733497e4df": {
          "model_module": "@jupyter-widgets/controls",
          "model_name": "HTMLModel",
          "state": {
            "_view_name": "HTMLView",
            "style": "IPY_MODEL_dc5bead93968437fb2b77c8c213a6524",
            "_dom_classes": [],
            "description": "",
            "_model_name": "HTMLModel",
            "placeholder": "​",
            "_view_module": "@jupyter-widgets/controls",
            "_model_module_version": "1.5.0",
            "value": " 9920512/? [00:19&lt;00:00, 1093774.71it/s]",
            "_view_count": null,
            "_view_module_version": "1.5.0",
            "description_tooltip": null,
            "_model_module": "@jupyter-widgets/controls",
            "layout": "IPY_MODEL_acf13122b9e44951a14dc9bc9b095ec9"
          }
        },
        "53753f31c85e436aa25304c827d09cf6": {
          "model_module": "@jupyter-widgets/controls",
          "model_name": "ProgressStyleModel",
          "state": {
            "_view_name": "StyleView",
            "_model_name": "ProgressStyleModel",
            "description_width": "initial",
            "_view_module": "@jupyter-widgets/base",
            "_model_module_version": "1.5.0",
            "_view_count": null,
            "_view_module_version": "1.2.0",
            "bar_color": null,
            "_model_module": "@jupyter-widgets/controls"
          }
        },
        "582443cfb25740648aae6379b7c39b40": {
          "model_module": "@jupyter-widgets/base",
          "model_name": "LayoutModel",
          "state": {
            "_view_name": "LayoutView",
            "grid_template_rows": null,
            "right": null,
            "justify_content": null,
            "_view_module": "@jupyter-widgets/base",
            "overflow": null,
            "_model_module_version": "1.2.0",
            "_view_count": null,
            "flex_flow": null,
            "width": null,
            "min_width": null,
            "border": null,
            "align_items": null,
            "bottom": null,
            "_model_module": "@jupyter-widgets/base",
            "top": null,
            "grid_column": null,
            "overflow_y": null,
            "overflow_x": null,
            "grid_auto_flow": null,
            "grid_area": null,
            "grid_template_columns": null,
            "flex": null,
            "_model_name": "LayoutModel",
            "justify_items": null,
            "grid_row": null,
            "max_height": null,
            "align_content": null,
            "visibility": null,
            "align_self": null,
            "height": null,
            "min_height": null,
            "padding": null,
            "grid_auto_rows": null,
            "grid_gap": null,
            "max_width": null,
            "order": null,
            "_view_module_version": "1.2.0",
            "grid_template_areas": null,
            "object_position": null,
            "object_fit": null,
            "grid_auto_columns": null,
            "margin": null,
            "display": null,
            "left": null
          }
        },
        "dc5bead93968437fb2b77c8c213a6524": {
          "model_module": "@jupyter-widgets/controls",
          "model_name": "DescriptionStyleModel",
          "state": {
            "_view_name": "StyleView",
            "_model_name": "DescriptionStyleModel",
            "description_width": "",
            "_view_module": "@jupyter-widgets/base",
            "_model_module_version": "1.5.0",
            "_view_count": null,
            "_view_module_version": "1.2.0",
            "_model_module": "@jupyter-widgets/controls"
          }
        },
        "acf13122b9e44951a14dc9bc9b095ec9": {
          "model_module": "@jupyter-widgets/base",
          "model_name": "LayoutModel",
          "state": {
            "_view_name": "LayoutView",
            "grid_template_rows": null,
            "right": null,
            "justify_content": null,
            "_view_module": "@jupyter-widgets/base",
            "overflow": null,
            "_model_module_version": "1.2.0",
            "_view_count": null,
            "flex_flow": null,
            "width": null,
            "min_width": null,
            "border": null,
            "align_items": null,
            "bottom": null,
            "_model_module": "@jupyter-widgets/base",
            "top": null,
            "grid_column": null,
            "overflow_y": null,
            "overflow_x": null,
            "grid_auto_flow": null,
            "grid_area": null,
            "grid_template_columns": null,
            "flex": null,
            "_model_name": "LayoutModel",
            "justify_items": null,
            "grid_row": null,
            "max_height": null,
            "align_content": null,
            "visibility": null,
            "align_self": null,
            "height": null,
            "min_height": null,
            "padding": null,
            "grid_auto_rows": null,
            "grid_gap": null,
            "max_width": null,
            "order": null,
            "_view_module_version": "1.2.0",
            "grid_template_areas": null,
            "object_position": null,
            "object_fit": null,
            "grid_auto_columns": null,
            "margin": null,
            "display": null,
            "left": null
          }
        },
        "50e77c831d4542ce8c2c4d5fec2596d3": {
          "model_module": "@jupyter-widgets/controls",
          "model_name": "HBoxModel",
          "state": {
            "_view_name": "HBoxView",
            "_dom_classes": [],
            "_model_name": "HBoxModel",
            "_view_module": "@jupyter-widgets/controls",
            "_model_module_version": "1.5.0",
            "_view_count": null,
            "_view_module_version": "1.5.0",
            "box_style": "",
            "layout": "IPY_MODEL_0ec36a8e2617483d95983c9ccd5b0ca4",
            "_model_module": "@jupyter-widgets/controls",
            "children": [
              "IPY_MODEL_428f51b54ea143178c351e8d55d0a099",
              "IPY_MODEL_1bce31a13d764550a534c21552a5fa2a"
            ]
          }
        },
        "0ec36a8e2617483d95983c9ccd5b0ca4": {
          "model_module": "@jupyter-widgets/base",
          "model_name": "LayoutModel",
          "state": {
            "_view_name": "LayoutView",
            "grid_template_rows": null,
            "right": null,
            "justify_content": null,
            "_view_module": "@jupyter-widgets/base",
            "overflow": null,
            "_model_module_version": "1.2.0",
            "_view_count": null,
            "flex_flow": null,
            "width": null,
            "min_width": null,
            "border": null,
            "align_items": null,
            "bottom": null,
            "_model_module": "@jupyter-widgets/base",
            "top": null,
            "grid_column": null,
            "overflow_y": null,
            "overflow_x": null,
            "grid_auto_flow": null,
            "grid_area": null,
            "grid_template_columns": null,
            "flex": null,
            "_model_name": "LayoutModel",
            "justify_items": null,
            "grid_row": null,
            "max_height": null,
            "align_content": null,
            "visibility": null,
            "align_self": null,
            "height": null,
            "min_height": null,
            "padding": null,
            "grid_auto_rows": null,
            "grid_gap": null,
            "max_width": null,
            "order": null,
            "_view_module_version": "1.2.0",
            "grid_template_areas": null,
            "object_position": null,
            "object_fit": null,
            "grid_auto_columns": null,
            "margin": null,
            "display": null,
            "left": null
          }
        },
        "428f51b54ea143178c351e8d55d0a099": {
          "model_module": "@jupyter-widgets/controls",
          "model_name": "FloatProgressModel",
          "state": {
            "_view_name": "ProgressView",
            "style": "IPY_MODEL_3f49f7b815244bd89f98606a1e8fdd58",
            "_dom_classes": [],
            "description": "",
            "_model_name": "FloatProgressModel",
            "bar_style": "success",
            "max": 1,
            "_view_module": "@jupyter-widgets/controls",
            "_model_module_version": "1.5.0",
            "value": 1,
            "_view_count": null,
            "_view_module_version": "1.5.0",
            "orientation": "horizontal",
            "min": 0,
            "description_tooltip": null,
            "_model_module": "@jupyter-widgets/controls",
            "layout": "IPY_MODEL_7e29997ef0634461860c5cb9e2805f30"
          }
        },
        "1bce31a13d764550a534c21552a5fa2a": {
          "model_module": "@jupyter-widgets/controls",
          "model_name": "HTMLModel",
          "state": {
            "_view_name": "HTMLView",
            "style": "IPY_MODEL_b178c412abe44e5284acedb86e550ff4",
            "_dom_classes": [],
            "description": "",
            "_model_name": "HTMLModel",
            "placeholder": "​",
            "_view_module": "@jupyter-widgets/controls",
            "_model_module_version": "1.5.0",
            "value": " 32768/? [00:01&lt;00:00, 32764.27it/s]",
            "_view_count": null,
            "_view_module_version": "1.5.0",
            "description_tooltip": null,
            "_model_module": "@jupyter-widgets/controls",
            "layout": "IPY_MODEL_c24e2c9f4bb0407986a06868d0e0b522"
          }
        },
        "3f49f7b815244bd89f98606a1e8fdd58": {
          "model_module": "@jupyter-widgets/controls",
          "model_name": "ProgressStyleModel",
          "state": {
            "_view_name": "StyleView",
            "_model_name": "ProgressStyleModel",
            "description_width": "initial",
            "_view_module": "@jupyter-widgets/base",
            "_model_module_version": "1.5.0",
            "_view_count": null,
            "_view_module_version": "1.2.0",
            "bar_color": null,
            "_model_module": "@jupyter-widgets/controls"
          }
        },
        "7e29997ef0634461860c5cb9e2805f30": {
          "model_module": "@jupyter-widgets/base",
          "model_name": "LayoutModel",
          "state": {
            "_view_name": "LayoutView",
            "grid_template_rows": null,
            "right": null,
            "justify_content": null,
            "_view_module": "@jupyter-widgets/base",
            "overflow": null,
            "_model_module_version": "1.2.0",
            "_view_count": null,
            "flex_flow": null,
            "width": null,
            "min_width": null,
            "border": null,
            "align_items": null,
            "bottom": null,
            "_model_module": "@jupyter-widgets/base",
            "top": null,
            "grid_column": null,
            "overflow_y": null,
            "overflow_x": null,
            "grid_auto_flow": null,
            "grid_area": null,
            "grid_template_columns": null,
            "flex": null,
            "_model_name": "LayoutModel",
            "justify_items": null,
            "grid_row": null,
            "max_height": null,
            "align_content": null,
            "visibility": null,
            "align_self": null,
            "height": null,
            "min_height": null,
            "padding": null,
            "grid_auto_rows": null,
            "grid_gap": null,
            "max_width": null,
            "order": null,
            "_view_module_version": "1.2.0",
            "grid_template_areas": null,
            "object_position": null,
            "object_fit": null,
            "grid_auto_columns": null,
            "margin": null,
            "display": null,
            "left": null
          }
        },
        "b178c412abe44e5284acedb86e550ff4": {
          "model_module": "@jupyter-widgets/controls",
          "model_name": "DescriptionStyleModel",
          "state": {
            "_view_name": "StyleView",
            "_model_name": "DescriptionStyleModel",
            "description_width": "",
            "_view_module": "@jupyter-widgets/base",
            "_model_module_version": "1.5.0",
            "_view_count": null,
            "_view_module_version": "1.2.0",
            "_model_module": "@jupyter-widgets/controls"
          }
        },
        "c24e2c9f4bb0407986a06868d0e0b522": {
          "model_module": "@jupyter-widgets/base",
          "model_name": "LayoutModel",
          "state": {
            "_view_name": "LayoutView",
            "grid_template_rows": null,
            "right": null,
            "justify_content": null,
            "_view_module": "@jupyter-widgets/base",
            "overflow": null,
            "_model_module_version": "1.2.0",
            "_view_count": null,
            "flex_flow": null,
            "width": null,
            "min_width": null,
            "border": null,
            "align_items": null,
            "bottom": null,
            "_model_module": "@jupyter-widgets/base",
            "top": null,
            "grid_column": null,
            "overflow_y": null,
            "overflow_x": null,
            "grid_auto_flow": null,
            "grid_area": null,
            "grid_template_columns": null,
            "flex": null,
            "_model_name": "LayoutModel",
            "justify_items": null,
            "grid_row": null,
            "max_height": null,
            "align_content": null,
            "visibility": null,
            "align_self": null,
            "height": null,
            "min_height": null,
            "padding": null,
            "grid_auto_rows": null,
            "grid_gap": null,
            "max_width": null,
            "order": null,
            "_view_module_version": "1.2.0",
            "grid_template_areas": null,
            "object_position": null,
            "object_fit": null,
            "grid_auto_columns": null,
            "margin": null,
            "display": null,
            "left": null
          }
        },
        "3a3d995d0fc64df7a5add18d4d3e8329": {
          "model_module": "@jupyter-widgets/controls",
          "model_name": "HBoxModel",
          "state": {
            "_view_name": "HBoxView",
            "_dom_classes": [],
            "_model_name": "HBoxModel",
            "_view_module": "@jupyter-widgets/controls",
            "_model_module_version": "1.5.0",
            "_view_count": null,
            "_view_module_version": "1.5.0",
            "box_style": "",
            "layout": "IPY_MODEL_3527666041a24639aa487ae8e10c9283",
            "_model_module": "@jupyter-widgets/controls",
            "children": [
              "IPY_MODEL_1fe261f8a5ad4c95a43bf5718a928c3e",
              "IPY_MODEL_86e8a7ad225f44aba3fdb6b813cffe51"
            ]
          }
        },
        "3527666041a24639aa487ae8e10c9283": {
          "model_module": "@jupyter-widgets/base",
          "model_name": "LayoutModel",
          "state": {
            "_view_name": "LayoutView",
            "grid_template_rows": null,
            "right": null,
            "justify_content": null,
            "_view_module": "@jupyter-widgets/base",
            "overflow": null,
            "_model_module_version": "1.2.0",
            "_view_count": null,
            "flex_flow": null,
            "width": null,
            "min_width": null,
            "border": null,
            "align_items": null,
            "bottom": null,
            "_model_module": "@jupyter-widgets/base",
            "top": null,
            "grid_column": null,
            "overflow_y": null,
            "overflow_x": null,
            "grid_auto_flow": null,
            "grid_area": null,
            "grid_template_columns": null,
            "flex": null,
            "_model_name": "LayoutModel",
            "justify_items": null,
            "grid_row": null,
            "max_height": null,
            "align_content": null,
            "visibility": null,
            "align_self": null,
            "height": null,
            "min_height": null,
            "padding": null,
            "grid_auto_rows": null,
            "grid_gap": null,
            "max_width": null,
            "order": null,
            "_view_module_version": "1.2.0",
            "grid_template_areas": null,
            "object_position": null,
            "object_fit": null,
            "grid_auto_columns": null,
            "margin": null,
            "display": null,
            "left": null
          }
        },
        "1fe261f8a5ad4c95a43bf5718a928c3e": {
          "model_module": "@jupyter-widgets/controls",
          "model_name": "FloatProgressModel",
          "state": {
            "_view_name": "ProgressView",
            "style": "IPY_MODEL_5766b52cef53401590783afd1b3aeead",
            "_dom_classes": [],
            "description": "",
            "_model_name": "FloatProgressModel",
            "bar_style": "success",
            "max": 1,
            "_view_module": "@jupyter-widgets/controls",
            "_model_module_version": "1.5.0",
            "value": 1,
            "_view_count": null,
            "_view_module_version": "1.5.0",
            "orientation": "horizontal",
            "min": 0,
            "description_tooltip": null,
            "_model_module": "@jupyter-widgets/controls",
            "layout": "IPY_MODEL_5db89c253bc84e0ea6551f04142a7eac"
          }
        },
        "86e8a7ad225f44aba3fdb6b813cffe51": {
          "model_module": "@jupyter-widgets/controls",
          "model_name": "HTMLModel",
          "state": {
            "_view_name": "HTMLView",
            "style": "IPY_MODEL_b2e1239ed94d4cf8b03a282bcdf45278",
            "_dom_classes": [],
            "description": "",
            "_model_name": "HTMLModel",
            "placeholder": "​",
            "_view_module": "@jupyter-widgets/controls",
            "_model_module_version": "1.5.0",
            "value": " 1654784/? [00:00&lt;00:00, 2262267.11it/s]",
            "_view_count": null,
            "_view_module_version": "1.5.0",
            "description_tooltip": null,
            "_model_module": "@jupyter-widgets/controls",
            "layout": "IPY_MODEL_17004f67b8a840c2bab81be4c4450c2b"
          }
        },
        "5766b52cef53401590783afd1b3aeead": {
          "model_module": "@jupyter-widgets/controls",
          "model_name": "ProgressStyleModel",
          "state": {
            "_view_name": "StyleView",
            "_model_name": "ProgressStyleModel",
            "description_width": "initial",
            "_view_module": "@jupyter-widgets/base",
            "_model_module_version": "1.5.0",
            "_view_count": null,
            "_view_module_version": "1.2.0",
            "bar_color": null,
            "_model_module": "@jupyter-widgets/controls"
          }
        },
        "5db89c253bc84e0ea6551f04142a7eac": {
          "model_module": "@jupyter-widgets/base",
          "model_name": "LayoutModel",
          "state": {
            "_view_name": "LayoutView",
            "grid_template_rows": null,
            "right": null,
            "justify_content": null,
            "_view_module": "@jupyter-widgets/base",
            "overflow": null,
            "_model_module_version": "1.2.0",
            "_view_count": null,
            "flex_flow": null,
            "width": null,
            "min_width": null,
            "border": null,
            "align_items": null,
            "bottom": null,
            "_model_module": "@jupyter-widgets/base",
            "top": null,
            "grid_column": null,
            "overflow_y": null,
            "overflow_x": null,
            "grid_auto_flow": null,
            "grid_area": null,
            "grid_template_columns": null,
            "flex": null,
            "_model_name": "LayoutModel",
            "justify_items": null,
            "grid_row": null,
            "max_height": null,
            "align_content": null,
            "visibility": null,
            "align_self": null,
            "height": null,
            "min_height": null,
            "padding": null,
            "grid_auto_rows": null,
            "grid_gap": null,
            "max_width": null,
            "order": null,
            "_view_module_version": "1.2.0",
            "grid_template_areas": null,
            "object_position": null,
            "object_fit": null,
            "grid_auto_columns": null,
            "margin": null,
            "display": null,
            "left": null
          }
        },
        "b2e1239ed94d4cf8b03a282bcdf45278": {
          "model_module": "@jupyter-widgets/controls",
          "model_name": "DescriptionStyleModel",
          "state": {
            "_view_name": "StyleView",
            "_model_name": "DescriptionStyleModel",
            "description_width": "",
            "_view_module": "@jupyter-widgets/base",
            "_model_module_version": "1.5.0",
            "_view_count": null,
            "_view_module_version": "1.2.0",
            "_model_module": "@jupyter-widgets/controls"
          }
        },
        "17004f67b8a840c2bab81be4c4450c2b": {
          "model_module": "@jupyter-widgets/base",
          "model_name": "LayoutModel",
          "state": {
            "_view_name": "LayoutView",
            "grid_template_rows": null,
            "right": null,
            "justify_content": null,
            "_view_module": "@jupyter-widgets/base",
            "overflow": null,
            "_model_module_version": "1.2.0",
            "_view_count": null,
            "flex_flow": null,
            "width": null,
            "min_width": null,
            "border": null,
            "align_items": null,
            "bottom": null,
            "_model_module": "@jupyter-widgets/base",
            "top": null,
            "grid_column": null,
            "overflow_y": null,
            "overflow_x": null,
            "grid_auto_flow": null,
            "grid_area": null,
            "grid_template_columns": null,
            "flex": null,
            "_model_name": "LayoutModel",
            "justify_items": null,
            "grid_row": null,
            "max_height": null,
            "align_content": null,
            "visibility": null,
            "align_self": null,
            "height": null,
            "min_height": null,
            "padding": null,
            "grid_auto_rows": null,
            "grid_gap": null,
            "max_width": null,
            "order": null,
            "_view_module_version": "1.2.0",
            "grid_template_areas": null,
            "object_position": null,
            "object_fit": null,
            "grid_auto_columns": null,
            "margin": null,
            "display": null,
            "left": null
          }
        },
        "0986c01611f44ebba05480c7abe88585": {
          "model_module": "@jupyter-widgets/controls",
          "model_name": "HBoxModel",
          "state": {
            "_view_name": "HBoxView",
            "_dom_classes": [],
            "_model_name": "HBoxModel",
            "_view_module": "@jupyter-widgets/controls",
            "_model_module_version": "1.5.0",
            "_view_count": null,
            "_view_module_version": "1.5.0",
            "box_style": "",
            "layout": "IPY_MODEL_a689bc1a7e54436996c25f0f12bee0cf",
            "_model_module": "@jupyter-widgets/controls",
            "children": [
              "IPY_MODEL_0563d8db56c84128a0620827b804ab09",
              "IPY_MODEL_3a01835c2ce345d88b13496cda835e09"
            ]
          }
        },
        "a689bc1a7e54436996c25f0f12bee0cf": {
          "model_module": "@jupyter-widgets/base",
          "model_name": "LayoutModel",
          "state": {
            "_view_name": "LayoutView",
            "grid_template_rows": null,
            "right": null,
            "justify_content": null,
            "_view_module": "@jupyter-widgets/base",
            "overflow": null,
            "_model_module_version": "1.2.0",
            "_view_count": null,
            "flex_flow": null,
            "width": null,
            "min_width": null,
            "border": null,
            "align_items": null,
            "bottom": null,
            "_model_module": "@jupyter-widgets/base",
            "top": null,
            "grid_column": null,
            "overflow_y": null,
            "overflow_x": null,
            "grid_auto_flow": null,
            "grid_area": null,
            "grid_template_columns": null,
            "flex": null,
            "_model_name": "LayoutModel",
            "justify_items": null,
            "grid_row": null,
            "max_height": null,
            "align_content": null,
            "visibility": null,
            "align_self": null,
            "height": null,
            "min_height": null,
            "padding": null,
            "grid_auto_rows": null,
            "grid_gap": null,
            "max_width": null,
            "order": null,
            "_view_module_version": "1.2.0",
            "grid_template_areas": null,
            "object_position": null,
            "object_fit": null,
            "grid_auto_columns": null,
            "margin": null,
            "display": null,
            "left": null
          }
        },
        "0563d8db56c84128a0620827b804ab09": {
          "model_module": "@jupyter-widgets/controls",
          "model_name": "FloatProgressModel",
          "state": {
            "_view_name": "ProgressView",
            "style": "IPY_MODEL_b28009f7aaf440c3a854683e3907f637",
            "_dom_classes": [],
            "description": "  0%",
            "_model_name": "FloatProgressModel",
            "bar_style": "info",
            "max": 1,
            "_view_module": "@jupyter-widgets/controls",
            "_model_module_version": "1.5.0",
            "value": 0,
            "_view_count": null,
            "_view_module_version": "1.5.0",
            "orientation": "horizontal",
            "min": 0,
            "description_tooltip": null,
            "_model_module": "@jupyter-widgets/controls",
            "layout": "IPY_MODEL_a105caabde5a4240b7a11380ca3cddf7"
          }
        },
        "3a01835c2ce345d88b13496cda835e09": {
          "model_module": "@jupyter-widgets/controls",
          "model_name": "HTMLModel",
          "state": {
            "_view_name": "HTMLView",
            "style": "IPY_MODEL_288d8b17466e4f65b70824e0257ce70f",
            "_dom_classes": [],
            "description": "",
            "_model_name": "HTMLModel",
            "placeholder": "​",
            "_view_module": "@jupyter-widgets/controls",
            "_model_module_version": "1.5.0",
            "value": " 0/4542 [00:00&lt;?, ?it/s]",
            "_view_count": null,
            "_view_module_version": "1.5.0",
            "description_tooltip": null,
            "_model_module": "@jupyter-widgets/controls",
            "layout": "IPY_MODEL_62190d63d7344cbe9eb51bf5c033a4c8"
          }
        },
        "b28009f7aaf440c3a854683e3907f637": {
          "model_module": "@jupyter-widgets/controls",
          "model_name": "ProgressStyleModel",
          "state": {
            "_view_name": "StyleView",
            "_model_name": "ProgressStyleModel",
            "description_width": "initial",
            "_view_module": "@jupyter-widgets/base",
            "_model_module_version": "1.5.0",
            "_view_count": null,
            "_view_module_version": "1.2.0",
            "bar_color": null,
            "_model_module": "@jupyter-widgets/controls"
          }
        },
        "a105caabde5a4240b7a11380ca3cddf7": {
          "model_module": "@jupyter-widgets/base",
          "model_name": "LayoutModel",
          "state": {
            "_view_name": "LayoutView",
            "grid_template_rows": null,
            "right": null,
            "justify_content": null,
            "_view_module": "@jupyter-widgets/base",
            "overflow": null,
            "_model_module_version": "1.2.0",
            "_view_count": null,
            "flex_flow": null,
            "width": null,
            "min_width": null,
            "border": null,
            "align_items": null,
            "bottom": null,
            "_model_module": "@jupyter-widgets/base",
            "top": null,
            "grid_column": null,
            "overflow_y": null,
            "overflow_x": null,
            "grid_auto_flow": null,
            "grid_area": null,
            "grid_template_columns": null,
            "flex": null,
            "_model_name": "LayoutModel",
            "justify_items": null,
            "grid_row": null,
            "max_height": null,
            "align_content": null,
            "visibility": null,
            "align_self": null,
            "height": null,
            "min_height": null,
            "padding": null,
            "grid_auto_rows": null,
            "grid_gap": null,
            "max_width": null,
            "order": null,
            "_view_module_version": "1.2.0",
            "grid_template_areas": null,
            "object_position": null,
            "object_fit": null,
            "grid_auto_columns": null,
            "margin": null,
            "display": null,
            "left": null
          }
        },
        "288d8b17466e4f65b70824e0257ce70f": {
          "model_module": "@jupyter-widgets/controls",
          "model_name": "DescriptionStyleModel",
          "state": {
            "_view_name": "StyleView",
            "_model_name": "DescriptionStyleModel",
            "description_width": "",
            "_view_module": "@jupyter-widgets/base",
            "_model_module_version": "1.5.0",
            "_view_count": null,
            "_view_module_version": "1.2.0",
            "_model_module": "@jupyter-widgets/controls"
          }
        },
        "62190d63d7344cbe9eb51bf5c033a4c8": {
          "model_module": "@jupyter-widgets/base",
          "model_name": "LayoutModel",
          "state": {
            "_view_name": "LayoutView",
            "grid_template_rows": null,
            "right": null,
            "justify_content": null,
            "_view_module": "@jupyter-widgets/base",
            "overflow": null,
            "_model_module_version": "1.2.0",
            "_view_count": null,
            "flex_flow": null,
            "width": null,
            "min_width": null,
            "border": null,
            "align_items": null,
            "bottom": null,
            "_model_module": "@jupyter-widgets/base",
            "top": null,
            "grid_column": null,
            "overflow_y": null,
            "overflow_x": null,
            "grid_auto_flow": null,
            "grid_area": null,
            "grid_template_columns": null,
            "flex": null,
            "_model_name": "LayoutModel",
            "justify_items": null,
            "grid_row": null,
            "max_height": null,
            "align_content": null,
            "visibility": null,
            "align_self": null,
            "height": null,
            "min_height": null,
            "padding": null,
            "grid_auto_rows": null,
            "grid_gap": null,
            "max_width": null,
            "order": null,
            "_view_module_version": "1.2.0",
            "grid_template_areas": null,
            "object_position": null,
            "object_fit": null,
            "grid_auto_columns": null,
            "margin": null,
            "display": null,
            "left": null
          }
        }
      }
    }
  },
  "cells": [
    {
      "cell_type": "markdown",
      "metadata": {
        "id": "t9CC9_KRs_dz",
        "colab_type": "text"
      },
      "source": [
        "# What's this all about?\n",
        "\n",
        "This came from an idea that I had when I was watching a lecture from Ian Goodfellow on adversarial attacks. An adversarial attack looks like this:"
      ]
    },
    {
      "cell_type": "code",
      "metadata": {
        "id": "OpM0XFy-s_d0",
        "colab_type": "code",
        "colab": {}
      },
      "source": [
        "from IPython.display import Image\n",
        "Image(\"img/adversarial_attack.png\")\n",
        "import matplotlib.pyplot as plt"
      ],
      "execution_count": 2,
      "outputs": []
    },
    {
      "cell_type": "markdown",
      "metadata": {
        "id": "_BRIidgEs_d5",
        "colab_type": "text"
      },
      "source": [
        "With some carefully crafted noise, neural networks can be systematically fooled into making wildly incorrect predictions. This on its own is intriguing, but it was something else that inspired this project.\n",
        "\n",
        "When talking about the use of adversarial attacks in practice, Goodfellow mentioned that there were a few ways of pulling it off. If you have full access to the model, you just backpropagate all the way back to the input of the network. If you can only run queries on the model, you can use synthetic gradients (though it takes longer) to generate attacks. Ok, sure - makes sense. But what if you don't have the ability to run multiple queries? What if you only have one chance at fooling a network you've never seen before?\n",
        "\n",
        "Oddly enough, you can still generate an adversarial attack for a brand new network. The answer is surprisingly simple - you just use an adversarial example from another network. In the image above, you would probably be able to use this attack on many other networks that have been trained on the same dataset.\n",
        "\n",
        "This fact made me believe that neural networks trained on the same dataset are learning the same function. It's a very complicated function that is parameterized by the dataset. But since it's just one function, that would explain why many different networks can be fooled by the same examples. Under this view, since a dataset completely defines a function that is learned by the network during training, there is an equivalence between a dataset and the final network state after training. Training is molding a network to take on the function defined by the dataset, and the reverse is adversarial training: creating a dataset from a function defined by the network.\n",
        "\n",
        "This relationship between datasets and trained networks can be used to do some interesting things. The principal question: if networks are learning the same function after all, can you train networks to correctly classify images by training them to make the same mistakes as another trained network?"
      ]
    },
    {
      "cell_type": "markdown",
      "metadata": {
        "id": "_icwIF5wxYZd",
        "colab_type": "text"
      },
      "source": [
        "# Making a few models"
      ]
    },
    {
      "cell_type": "code",
      "metadata": {
        "id": "30ex6zhDs_d6",
        "colab_type": "code",
        "colab": {}
      },
      "source": [
        "import torch\n",
        "import torch.nn as nn\n",
        "import torchvision\n",
        "import torch.nn.functional as F\n",
        "from torchvision.models.resnet import ResNet, BasicBlock, Bottleneck\n",
        "import torch.nn as nn"
      ],
      "execution_count": 3,
      "outputs": []
    },
    {
      "cell_type": "code",
      "metadata": {
        "id": "QuX5y37Ms_d9",
        "colab_type": "code",
        "colab": {}
      },
      "source": [
        "class SimpleDenseNet(nn.Module):\n",
        "    def __init__(self, input_dim=784, hidden_dim=128, output_dim=10, learning_rate=1e-2):\n",
        "        super(SimpleDenseNet, self).__init__()\n",
        "        self.l1 = nn.Linear(input_dim, hidden_dim)\n",
        "        self.l2 = nn.Linear(hidden_dim, output_dim)\n",
        "\n",
        "    def forward(self, x):\n",
        "        x = self.l1(x)\n",
        "        x = F.relu(x)\n",
        "        x = self.l2(x)\n",
        "        x = F.relu(x)\n",
        "        return x"
      ],
      "execution_count": 4,
      "outputs": []
    },
    {
      "cell_type": "code",
      "metadata": {
        "id": "K5uHSHJrs_eA",
        "colab_type": "code",
        "colab": {}
      },
      "source": [
        "class ConvNet(nn.Module):\n",
        "    def __init__(self, input_dim=784, output_dim=10):\n",
        "        super(ConvNet, self).__init__()\n",
        "        self.conv1 = nn.Conv2d(1, 10, kernel_size=5)\n",
        "        self.conv2 = nn.Conv2d(10, 20, kernel_size=5)\n",
        "        self.fc = nn.Linear(20, 10)\n",
        "\n",
        "    def forward(self, x):\n",
        "        x = self.conv1(x)\n",
        "        x = F.max_pool2d(x, kernel_size=3)\n",
        "        x = F.relu(x)\n",
        "        x = self.conv2(x)\n",
        "        x = F.max_pool2d(x, kernel_size=3)\n",
        "        x = x.view(-1, 20)\n",
        "        x = F.relu(x)\n",
        "        x = self.fc(x)\n",
        "        return x"
      ],
      "execution_count": 5,
      "outputs": []
    },
    {
      "cell_type": "code",
      "metadata": {
        "id": "2BOouowrs_eD",
        "colab_type": "code",
        "colab": {}
      },
      "source": [
        "class MNISTResNet(ResNet):\n",
        "    def __init__(self):\n",
        "        super(MNISTResNet, self).__init__(BasicBlock, [2, 2, 2, 2], num_classes=10) # Based on ResNet18\n",
        "        self.conv1 = nn.Conv2d(1, 64, kernel_size=7, stride=1, padding=3,bias=False)"
      ],
      "execution_count": 6,
      "outputs": []
    },
    {
      "cell_type": "code",
      "metadata": {
        "id": "pJeKmZlrs_eF",
        "colab_type": "code",
        "colab": {}
      },
      "source": [
        "class MultiLayerDenseNet(nn.Module):\n",
        "    def __init__(self, input_dim=784, hidden_dims=None, output_dim=10):\n",
        "        super(MultiLayerDenseNet, self).__init__()\n",
        "        if hidden_dims is None:\n",
        "            hidden_dims = [256, 128]\n",
        "        layers = []\n",
        "        curr = input_dim\n",
        "        for hidden_dim in hidden_dims+[output_dim]:\n",
        "            layers.append(nn.Linear(curr, hidden_dim))\n",
        "            curr = hidden_dim\n",
        "        self.layers = nn.ModuleList(layers)\n",
        "    \n",
        "    def forward(self, x):\n",
        "        for layer in self.layers:\n",
        "            x = layer(x)\n",
        "            x = F.relu(x)\n",
        "        return x"
      ],
      "execution_count": 7,
      "outputs": []
    },
    {
      "cell_type": "markdown",
      "metadata": {
        "id": "UTWZNTE7yNyH",
        "colab_type": "text"
      },
      "source": [
        "# Getting the dataset"
      ]
    },
    {
      "cell_type": "code",
      "metadata": {
        "id": "1yWJ7K97yUd5",
        "colab_type": "code",
        "colab": {}
      },
      "source": [
        "from torch.utils.data import DataLoader\n",
        "from torchvision.datasets import MNIST\n",
        "from torchvision import transforms\n",
        "import os"
      ],
      "execution_count": 8,
      "outputs": []
    },
    {
      "cell_type": "code",
      "metadata": {
        "id": "DMLS9TQ_ygvN",
        "colab_type": "code",
        "colab": {
          "base_uri": "https://localhost:8080/",
          "height": 403,
          "referenced_widgets": [
            "bd489903c109465d97069133f264d5f3",
            "bdc6c0070ecd4e0fa405236f7a75a83b",
            "dabf2c50921346ee83d9140bde2189d1",
            "6160653561b4457e9b356d733497e4df",
            "53753f31c85e436aa25304c827d09cf6",
            "582443cfb25740648aae6379b7c39b40",
            "dc5bead93968437fb2b77c8c213a6524",
            "acf13122b9e44951a14dc9bc9b095ec9",
            "50e77c831d4542ce8c2c4d5fec2596d3",
            "0ec36a8e2617483d95983c9ccd5b0ca4",
            "428f51b54ea143178c351e8d55d0a099",
            "1bce31a13d764550a534c21552a5fa2a",
            "3f49f7b815244bd89f98606a1e8fdd58",
            "7e29997ef0634461860c5cb9e2805f30",
            "b178c412abe44e5284acedb86e550ff4",
            "c24e2c9f4bb0407986a06868d0e0b522",
            "3a3d995d0fc64df7a5add18d4d3e8329",
            "3527666041a24639aa487ae8e10c9283",
            "1fe261f8a5ad4c95a43bf5718a928c3e",
            "86e8a7ad225f44aba3fdb6b813cffe51",
            "5766b52cef53401590783afd1b3aeead",
            "5db89c253bc84e0ea6551f04142a7eac",
            "b2e1239ed94d4cf8b03a282bcdf45278",
            "17004f67b8a840c2bab81be4c4450c2b",
            "0986c01611f44ebba05480c7abe88585",
            "a689bc1a7e54436996c25f0f12bee0cf",
            "0563d8db56c84128a0620827b804ab09",
            "3a01835c2ce345d88b13496cda835e09",
            "b28009f7aaf440c3a854683e3907f637",
            "a105caabde5a4240b7a11380ca3cddf7",
            "288d8b17466e4f65b70824e0257ce70f",
            "62190d63d7344cbe9eb51bf5c033a4c8"
          ]
        },
        "outputId": "9daa4262-6c9c-4131-a658-350ce6ed1ad3"
      },
      "source": [
        "mnist_train = torchvision.datasets.MNIST(root=\"./data\", transform=transforms.ToTensor(), download=True)\n",
        "mnist_test = torchvision.datasets.MNIST(root=\"./data\", train=False, transform=transforms.ToTensor(), download=True)\n",
        "# mnist_train.data = mnist_train.data.double()\n",
        "# mnist_test_data = mnist_test.data.double()"
      ],
      "execution_count": 9,
      "outputs": [
        {
          "output_type": "stream",
          "text": [
            "Downloading http://yann.lecun.com/exdb/mnist/train-images-idx3-ubyte.gz to ./data/MNIST/raw/train-images-idx3-ubyte.gz\n"
          ],
          "name": "stdout"
        },
        {
          "output_type": "display_data",
          "data": {
            "application/vnd.jupyter.widget-view+json": {
              "model_id": "bd489903c109465d97069133f264d5f3",
              "version_minor": 0,
              "version_major": 2
            },
            "text/plain": [
              "HBox(children=(FloatProgress(value=1.0, bar_style='info', max=1.0), HTML(value='')))"
            ]
          },
          "metadata": {
            "tags": []
          }
        },
        {
          "output_type": "stream",
          "text": [
            "Extracting ./data/MNIST/raw/train-images-idx3-ubyte.gz to ./data/MNIST/raw\n",
            "Downloading http://yann.lecun.com/exdb/mnist/train-labels-idx1-ubyte.gz to ./data/MNIST/raw/train-labels-idx1-ubyte.gz\n"
          ],
          "name": "stdout"
        },
        {
          "output_type": "display_data",
          "data": {
            "application/vnd.jupyter.widget-view+json": {
              "model_id": "50e77c831d4542ce8c2c4d5fec2596d3",
              "version_minor": 0,
              "version_major": 2
            },
            "text/plain": [
              "HBox(children=(FloatProgress(value=1.0, bar_style='info', max=1.0), HTML(value='')))"
            ]
          },
          "metadata": {
            "tags": []
          }
        },
        {
          "output_type": "stream",
          "text": [
            "Extracting ./data/MNIST/raw/train-labels-idx1-ubyte.gz to ./data/MNIST/raw\n",
            "Downloading http://yann.lecun.com/exdb/mnist/t10k-images-idx3-ubyte.gz to ./data/MNIST/raw/t10k-images-idx3-ubyte.gz\n"
          ],
          "name": "stdout"
        },
        {
          "output_type": "display_data",
          "data": {
            "application/vnd.jupyter.widget-view+json": {
              "model_id": "3a3d995d0fc64df7a5add18d4d3e8329",
              "version_minor": 0,
              "version_major": 2
            },
            "text/plain": [
              "HBox(children=(FloatProgress(value=1.0, bar_style='info', max=1.0), HTML(value='')))"
            ]
          },
          "metadata": {
            "tags": []
          }
        },
        {
          "output_type": "stream",
          "text": [
            "Extracting ./data/MNIST/raw/t10k-images-idx3-ubyte.gz to ./data/MNIST/raw\n",
            "Downloading http://yann.lecun.com/exdb/mnist/t10k-labels-idx1-ubyte.gz to ./data/MNIST/raw/t10k-labels-idx1-ubyte.gz\n",
            "\n",
            "\n"
          ],
          "name": "stdout"
        },
        {
          "output_type": "display_data",
          "data": {
            "application/vnd.jupyter.widget-view+json": {
              "model_id": "0986c01611f44ebba05480c7abe88585",
              "version_minor": 0,
              "version_major": 2
            },
            "text/plain": [
              "HBox(children=(FloatProgress(value=1.0, bar_style='info', max=1.0), HTML(value='')))"
            ]
          },
          "metadata": {
            "tags": []
          }
        },
        {
          "output_type": "stream",
          "text": [
            "Extracting ./data/MNIST/raw/t10k-labels-idx1-ubyte.gz to ./data/MNIST/raw\n",
            "Processing...\n",
            "Done!\n"
          ],
          "name": "stdout"
        },
        {
          "output_type": "stream",
          "text": [
            "/usr/local/lib/python3.6/dist-packages/torchvision/datasets/mnist.py:469: UserWarning: The given NumPy array is not writeable, and PyTorch does not support non-writeable tensors. This means you can write to the underlying (supposedly non-writeable) NumPy array using the tensor. You may want to copy the array to protect its data or make it writeable before converting it to a tensor. This type of warning will be suppressed for the rest of this program. (Triggered internally at  /pytorch/torch/csrc/utils/tensor_numpy.cpp:141.)\n",
            "  return torch.from_numpy(parsed.astype(m[2], copy=False)).view(*s)\n"
          ],
          "name": "stderr"
        }
      ]
    },
    {
      "cell_type": "code",
      "metadata": {
        "id": "d37MEZhVzh86",
        "colab_type": "code",
        "colab": {}
      },
      "source": [
        "mnist_train_loader = DataLoader(dataset=mnist_train, batch_size=32, shuffle=True)\n",
        "mnist_test_loader = DataLoader(dataset=mnist_test, batch_size=32, shuffle=True)"
      ],
      "execution_count": 10,
      "outputs": []
    },
    {
      "cell_type": "markdown",
      "metadata": {
        "id": "WvkfUOpY0Rxk",
        "colab_type": "text"
      },
      "source": [
        "# Set up training code"
      ]
    },
    {
      "cell_type": "code",
      "metadata": {
        "id": "VVLvG0Rb0TTP",
        "colab_type": "code",
        "colab": {}
      },
      "source": [
        "def train_model(model, train_loader, num_epochs=10, lr=0.001, conv_net=False):\n",
        "    device = torch.device(\"cuda\" if torch.cuda.is_available() else \"cpu\")\n",
        "    loss_function = nn.CrossEntropyLoss()\n",
        "    optimizer = torch.optim.Adam(model.parameters(), lr=lr)\n",
        "    #optimizer = torch.optim.SGD(model.parameters(), lr=lr)\n",
        "    model = model.to(device)\n",
        "    model.train()\n",
        "    # train the model to convergence\n",
        "    for epoch in range(num_epochs):\n",
        "        for i, (images, labels) in enumerate(train_loader):\n",
        "            # send to device\n",
        "            if conv_net:\n",
        "                images = images.reshape(-1, 1, 28, 28).to(device)\n",
        "            else:\n",
        "                images = images.reshape(-1, 28 * 28).to(device)\n",
        "            # run model and calculate loss\n",
        "            labels = labels.to(device)\n",
        "            outputs = model.forward(images)\n",
        "            loss = loss_function(outputs, labels)\n",
        "            # calculate gradients and step\n",
        "            optimizer.zero_grad()\n",
        "            loss.backward()\n",
        "            optimizer.step()\n",
        "            if not (i + 1) % 100:\n",
        "                print('Epoch [{}/{}], Step[{}/{}], Loss: {:.4f}'.format(epoch + 1, num_epochs, i + 1, len(train_loader), loss.item()))\n",
        "        print(\"EPOCH {} COMPLETE\".format(epoch + 1))"
      ],
      "execution_count": 182,
      "outputs": []
    },
    {
      "cell_type": "code",
      "metadata": {
        "id": "hgY06hGk0f_a",
        "colab_type": "code",
        "colab": {}
      },
      "source": [
        "def test_model(model, test_loader, conv_net = False):\n",
        "    model.eval()\n",
        "    device = torch.device(\"cuda\" if torch.cuda.is_available() else \"cpu\")\n",
        "    # test model\n",
        "    model.to(device)\n",
        "    with torch.no_grad():\n",
        "        correct = 0\n",
        "        total = 0\n",
        "        for images, labels in test_loader:\n",
        "            # send to device\n",
        "            if conv_net:\n",
        "                images = images.reshape(-1, 1, 28, 28).to(device)\n",
        "            else:\n",
        "                images = images.reshape(-1, 28 ** 2).to(device)\n",
        "            labels = labels.to(device)\n",
        "                        # run model\n",
        "            outputs = model.forward(images)\n",
        "            _, predictions = torch.max(outputs, 1)\n",
        "            total += labels.size(0)\n",
        "            correct += (predictions == labels).sum().item()\n",
        "        print(\"Accuracy: {} %\".format(100 * correct / total))"
      ],
      "execution_count": 183,
      "outputs": []
    },
    {
      "cell_type": "code",
      "metadata": {
        "id": "z0XR1wWn0zIp",
        "colab_type": "code",
        "colab": {}
      },
      "source": [
        "def save_model(model, model_name):\n",
        "    dir = \"./models/\"\n",
        "    torch.save(model.state_dict(), dir+model_name)"
      ],
      "execution_count": 184,
      "outputs": []
    },
    {
      "cell_type": "markdown",
      "metadata": {
        "id": "6VhKhNjy1NQg",
        "colab_type": "text"
      },
      "source": [
        "# Train a few models"
      ]
    },
    {
      "cell_type": "code",
      "metadata": {
        "id": "_G7vhvCC6QJk",
        "colab_type": "code",
        "colab": {}
      },
      "source": [
        "device = torch.device('cuda' if torch.cuda.is_available() else \"cpu\")"
      ],
      "execution_count": 11,
      "outputs": []
    },
    {
      "cell_type": "markdown",
      "metadata": {
        "id": "ETGpMI8t1Wq4",
        "colab_type": "text"
      },
      "source": [
        "## Simple Dense Nets"
      ]
    },
    {
      "cell_type": "code",
      "metadata": {
        "id": "xqeU85gZ1PG-",
        "colab_type": "code",
        "colab": {}
      },
      "source": [
        "hidden_layer_sizes = [2048, 1024, 512, 256]\n",
        "for hidden_layer_size in hidden_layer_sizes:\n",
        "    print(\"Simple Dense Net: Hidden Layer Size \"+str(hidden_layer_size))\n",
        "    model = SimpleDenseNet(hidden_dim=hidden_layer_size)\n",
        "    path = \"./models/SimpleDense\"+str(hidden_layer_size)\n",
        "    if os.path.exists(path):\n",
        "        checkpoint = torch.load(path)\n",
        "        model.load_state_dict(checkpoint)\n",
        "        print(\"Loaded model\")\n",
        "    train_model(model, mnist_train_loader, num_epochs=3, lr=0.001)\n",
        "    test_model(model, mnist_test_loader)\n",
        "    save_model(model, \"SimpleDense\"+str(hidden_layer_size))"
      ],
      "execution_count": 14,
      "outputs": []
    },
    {
      "cell_type": "code",
      "metadata": {
        "id": "4u2u_vBH10Im",
        "colab_type": "code",
        "colab": {
          "base_uri": "https://localhost:8080/",
          "height": 136
        },
        "outputId": "62cf92a4-a240-4c64-9a4c-f2f2001565b0"
      },
      "source": [
        "#this is the best simple dense net\n",
        "simple_dense_net = SimpleDenseNet(hidden_dim=512)\n",
        "path = \"./models/SimpleDense512\"\n",
        "if os.path.exists(path):\n",
        "    checkpoint = torch.load(path)\n",
        "    simple_dense_net.load_state_dict(checkpoint)\n",
        "    print(\"Loaded Model\")"
      ],
      "execution_count": 13,
      "outputs": [
        {
          "output_type": "stream",
          "text": [
            "Loaded Model\n"
          ],
          "name": "stdout"
        },
        {
          "output_type": "stream",
          "text": [
            "/usr/local/lib/python3.6/dist-packages/torch/cuda/__init__.py:125: UserWarning: \n",
            "Tesla T4 with CUDA capability sm_75 is not compatible with the current PyTorch installation.\n",
            "The current PyTorch install supports CUDA capabilities sm_37 sm_50 sm_60 sm_70.\n",
            "If you want to use the Tesla T4 GPU with PyTorch, please check the instructions at https://pytorch.org/get-started/locally/\n",
            "\n",
            "  warnings.warn(incompatible_device_warn.format(device_name, capability, \" \".join(arch_list), device_name))\n"
          ],
          "name": "stderr"
        }
      ]
    },
    {
      "cell_type": "markdown",
      "metadata": {
        "id": "K5j7XagL868Q",
        "colab_type": "text"
      },
      "source": [
        "## Multi Layer Dense Net"
      ]
    },
    {
      "cell_type": "code",
      "metadata": {
        "id": "LZuyBBERtkIt",
        "colab_type": "code",
        "colab": {
          "base_uri": "https://localhost:8080/",
          "height": 34
        },
        "outputId": "c614ce29-d5bf-4a21-e7be-60c860d90e23"
      },
      "source": [
        "hidden_layer_dimensions = (512, 256, 128)\n",
        "multi_layer_dense_net = MultiLayerDenseNet(hidden_dims=list(hidden_layer_dimensions))\n",
        "model_name = \"MultiLayerDense\"\n",
        "for layer_dim in hidden_layer_dimensions:\n",
        "    model_name += \"_\"+str(layer_dim)\n",
        "path = \"./models/\" + model_name\n",
        "if os.path.exists(path):\n",
        "    checkpoint = torch.load(path)\n",
        "    multi_layer_dense_net.load_state_dict(checkpoint)\n",
        "    print(\"Loaded model\")"
      ],
      "execution_count": 14,
      "outputs": [
        {
          "output_type": "stream",
          "text": [
            "Loaded model\n"
          ],
          "name": "stdout"
        }
      ]
    },
    {
      "cell_type": "code",
      "metadata": {
        "id": "u0n6HY1u8_1g",
        "colab_type": "code",
        "colab": {}
      },
      "source": [
        "train_model(model, mnist_train_loader, num_epochs=10, lr=3e-5)\n",
        "test_model(model, mnist_test_loader)\n",
        "save_model(model, model_name)"
      ],
      "execution_count": 17,
      "outputs": []
    },
    {
      "cell_type": "markdown",
      "metadata": {
        "id": "oQhke6T34cSm",
        "colab_type": "text"
      },
      "source": [
        "## Conv Net"
      ]
    },
    {
      "cell_type": "code",
      "metadata": {
        "id": "d9IyIL3856UU",
        "colab_type": "code",
        "colab": {
          "base_uri": "https://localhost:8080/",
          "height": 34
        },
        "outputId": "d604f5e8-8f50-457e-b725-675fd05e5c8d"
      },
      "source": [
        "conv_net = ConvNet()\n",
        "model_name = \"ConvNet\"\n",
        "path = \"./models/\" + model_name\n",
        "if os.path.exists(path):\n",
        "    checkpoint = torch.load(path)\n",
        "    conv_net.load_state_dict(checkpoint)\n",
        "    print(\"Loaded model\")"
      ],
      "execution_count": 15,
      "outputs": [
        {
          "output_type": "stream",
          "text": [
            "Loaded model\n"
          ],
          "name": "stdout"
        }
      ]
    },
    {
      "cell_type": "code",
      "metadata": {
        "id": "tCIowila9mIo",
        "colab_type": "code",
        "colab": {}
      },
      "source": [
        "train_model(conv_net, mnist_train_loader, num_epochs=10, lr=0.003, conv_net=True)\n",
        "test_model(conv_net, mnist_test_loader, conv_net=True)\n",
        "save_model(conv_net, model_name)"
      ],
      "execution_count": null,
      "outputs": []
    },
    {
      "cell_type": "markdown",
      "metadata": {
        "id": "s09_hnww_UJT",
        "colab_type": "text"
      },
      "source": [
        "## Res Net"
      ]
    },
    {
      "cell_type": "code",
      "metadata": {
        "id": "NXOhXCR9_VPt",
        "colab_type": "code",
        "colab": {
          "base_uri": "https://localhost:8080/",
          "height": 34
        },
        "outputId": "029adb1f-9fdc-45a7-999f-97486dfb20ec"
      },
      "source": [
        "res_net = MNISTResNet()\n",
        "model_name = \"MNISTResNet\"\n",
        "path = \"./models/\" + model_name\n",
        "if os.path.exists(path):\n",
        "    checkpoint = torch.load(path)\n",
        "    res_net.load_state_dict(checkpoint)\n",
        "    print(\"Loaded model\")"
      ],
      "execution_count": 16,
      "outputs": [
        {
          "output_type": "stream",
          "text": [
            "Loaded model\n"
          ],
          "name": "stdout"
        }
      ]
    },
    {
      "cell_type": "code",
      "metadata": {
        "id": "0TAW-ROw_hZJ",
        "colab_type": "code",
        "colab": {}
      },
      "source": [
        "train_model(res_net, mnist_train_loader, num_epochs=5, lr=1e-4, conv_net=True)\n",
        "test_model(res_net, mnist_test_loader, conv_net=True)\n",
        "save_model(res_net, model_name)"
      ],
      "execution_count": null,
      "outputs": []
    },
    {
      "cell_type": "markdown",
      "metadata": {
        "id": "S5lTB03BCgUX",
        "colab_type": "text"
      },
      "source": [
        "# Setting up the adversarial attack"
      ]
    },
    {
      "cell_type": "code",
      "metadata": {
        "id": "a_hTeW9JavUE",
        "colab_type": "code",
        "colab": {}
      },
      "source": [
        "def create_incorrect_labels(labels, num_classes = 10):\n",
        "    random_labels = torch.randint_like(labels, num_classes)\n",
        "    diff = random_labels - labels == 0\n",
        "    while any(diff):\n",
        "        random_labels[diff] = torch.randint_like(random_labels[diff], num_classes)\n",
        "        diff = random_labels - labels == 0\n",
        "    return random_labels"
      ],
      "execution_count": 17,
      "outputs": []
    },
    {
      "cell_type": "code",
      "metadata": {
        "id": "BkOjQWx6u8e0",
        "colab_type": "code",
        "colab": {}
      },
      "source": [
        "def create_adversarial_dataset_from_model(model, X, Y, conv_net=False, conf=0.99):\n",
        "    device = torch.device(\"cuda\" if torch.cuda.is_available() else \"cpu\")\n",
        "    model = model.to(device)\n",
        "    model.eval()\n",
        "    model.float()\n",
        "    if conv_net:\n",
        "        dataset = torch.empty(0, 1, 28, 28).to(device)\n",
        "    else:\n",
        "        dataset = torch.empty(0, 28*28).to(device)\n",
        "    labels_to_return= torch.empty(0).to(device)\n",
        "    iteration = 0\n",
        "    batch_size = 1000\n",
        "    for i in range(int(X.size(0)/batch_size)):\n",
        "        samples_to_attack = X[i:i+batch_size].clone()\n",
        "        labels = Y[i:i+batch_size].reshape(batch_size).to(device)\n",
        "        if conv_net:\n",
        "            samples_to_attack = samples_to_attack.reshape(batch_size, 1, 28, 28)\n",
        "        else:\n",
        "            samples_to_attack = samples_to_attack.reshape(batch_size, 28*28)\n",
        "        x, indices = attack_samples(samples_to_attack, labels, model)\n",
        "        dataset = torch.cat([dataset, x])\n",
        "        labels_to_return = torch.cat([labels_to_return, labels[indices]])\n",
        "        print(str(x.size(0)) + \" samples added.\")\n",
        "        iteration+=1\n",
        "        print(str(iteration) + \" of \" + str(X.size(0)//batch_size))\n",
        "    return dataset, labels_to_return"
      ],
      "execution_count": 155,
      "outputs": []
    },
    {
      "cell_type": "code",
      "metadata": {
        "id": "Qa1d-3aZvCAZ",
        "colab_type": "code",
        "colab": {}
      },
      "source": [
        "def attack_samples(x, y, net, conf=0.99, step_size=0.02):\n",
        "    device = torch.device(\"cuda\" if torch.cuda.is_available() else \"cpu\")\n",
        "    x = x.to(device)\n",
        "    y = y.to(device)\n",
        "    net = net.to(device)\n",
        "    net.float()\n",
        "    x = x.float()\n",
        "    y = y.long()\n",
        "    x.requires_grad_()\n",
        "    c = 0\n",
        "    net.eval()\n",
        "    optimizer = torch.optim.Adam([x,], lr=step_size, amsgrad=True)\n",
        "    loss_func = nn.CrossEntropyLoss()\n",
        "    i = 0\n",
        "    while i < 400:\n",
        "        y_hat = net(x)\n",
        "        loss = loss_func(y_hat, y)\n",
        "        vals = torch.softmax(y_hat, 1).gather(1, y.reshape(-1, 1))\n",
        "        optimizer.zero_grad()\n",
        "        loss.backward()\n",
        "        optimizer.step()\n",
        "        with torch.no_grad():\n",
        "          x.clamp_(0, 1).float()\n",
        "        i+=1\n",
        "    x.requires_grad_(False)\n",
        "    good_indices = (vals >= conf).reshape(-1).to(device)\n",
        "    return x[good_indices, :], good_indices"
      ],
      "execution_count": 146,
      "outputs": []
    },
    {
      "cell_type": "markdown",
      "metadata": {
        "id": "Gladfe5kHfzw",
        "colab_type": "text"
      },
      "source": [
        "# Attacking datasets"
      ]
    },
    {
      "cell_type": "code",
      "metadata": {
        "id": "E6u6uhib41Uc",
        "colab_type": "code",
        "colab": {}
      },
      "source": [
        "mnist_full_X = mnist_train.data.float().reshape(-1, 28*28).clone()/255."
      ],
      "execution_count": 18,
      "outputs": []
    },
    {
      "cell_type": "code",
      "metadata": {
        "id": "6ZJwHwFo5E3f",
        "colab_type": "code",
        "colab": {}
      },
      "source": [
        "mnist_full_Y = mnist_train.targets"
      ],
      "execution_count": 19,
      "outputs": []
    },
    {
      "cell_type": "markdown",
      "metadata": {
        "id": "6-KAr-STLsm4",
        "colab_type": "text"
      },
      "source": [
        "## Simple Dense"
      ]
    },
    {
      "cell_type": "code",
      "metadata": {
        "id": "DhVATtTB5TFX",
        "colab_type": "code",
        "colab": {}
      },
      "source": [
        "mnist_incorrect_Y = create_incorrect_labels(mnist_full_Y)"
      ],
      "execution_count": 21,
      "outputs": []
    },
    {
      "cell_type": "code",
      "metadata": {
        "id": "rZM01g7acSLw",
        "colab_type": "code",
        "colab": {}
      },
      "source": [
        "x, y = mnist_full_X[:1000], mnist_incorrect_Y[:1000]"
      ],
      "execution_count": 123,
      "outputs": []
    },
    {
      "cell_type": "code",
      "metadata": {
        "id": "yT8suQFD5Z8C",
        "colab_type": "code",
        "colab": {}
      },
      "source": [
        "dataset = create_adversarial_dataset_from_model(simple_dense_net, mnist_full_X, mnist_incorrect_Y)"
      ],
      "execution_count": null,
      "outputs": []
    },
    {
      "cell_type": "code",
      "metadata": {
        "id": "Xz4bssqeIH36",
        "colab_type": "code",
        "colab": {}
      },
      "source": [
        "dataset_path = \"./data/mnist_attacked_simple_dense\"\n",
        "torch.save(dataset, dataset_path)"
      ],
      "execution_count": 170,
      "outputs": []
    },
    {
      "cell_type": "markdown",
      "metadata": {
        "id": "5tpz-OTZLxt7",
        "colab_type": "text"
      },
      "source": [
        "## Conv Net"
      ]
    },
    {
      "cell_type": "code",
      "metadata": {
        "id": "8l6wOexzLzhR",
        "colab_type": "code",
        "colab": {}
      },
      "source": [
        "mnist_incorrect_Y = create_incorrect_labels(mnist_full_Y)"
      ],
      "execution_count": 149,
      "outputs": []
    },
    {
      "cell_type": "code",
      "metadata": {
        "id": "-n7rmO-oLzkD",
        "colab_type": "code",
        "colab": {}
      },
      "source": [
        "dataset = create_adversarial_dataset_from_model(conv_net, mnist_full_X, mnist_incorrect_Y, conv_net=True)"
      ],
      "execution_count": null,
      "outputs": []
    },
    {
      "cell_type": "code",
      "metadata": {
        "id": "uFgP95WpMRaP",
        "colab_type": "code",
        "colab": {}
      },
      "source": [
        "dataset_path = \"./data/mnist_attacked_conv_net\"\n",
        "torch.save(dataset, dataset_path)"
      ],
      "execution_count": 157,
      "outputs": []
    },
    {
      "cell_type": "markdown",
      "metadata": {
        "id": "C8UchvBVML9F",
        "colab_type": "text"
      },
      "source": [
        "## ResNet"
      ]
    },
    {
      "cell_type": "code",
      "metadata": {
        "id": "16NR3BywMNxw",
        "colab_type": "code",
        "colab": {}
      },
      "source": [
        "mnist_incorrect_Y = create_incorrect_labels(mnist_full_Y)"
      ],
      "execution_count": 158,
      "outputs": []
    },
    {
      "cell_type": "code",
      "metadata": {
        "id": "WQB2zr95MN0G",
        "colab_type": "code",
        "colab": {}
      },
      "source": [
        "dataset = create_adversarial_dataset_from_model(conv_net, mnist_full_X, mnist_incorrect_Y, conv_net=True)"
      ],
      "execution_count": null,
      "outputs": []
    },
    {
      "cell_type": "code",
      "metadata": {
        "id": "ez2hMFN2MXXj",
        "colab_type": "code",
        "colab": {}
      },
      "source": [
        "dataset_path = \"./data/mnist_attacked_res_net\"\n",
        "torch.save(dataset, dataset_path)"
      ],
      "execution_count": 160,
      "outputs": []
    },
    {
      "cell_type": "markdown",
      "metadata": {
        "id": "5Aout_LmMcjK",
        "colab_type": "text"
      },
      "source": [
        "## Multilayer Dense"
      ]
    },
    {
      "cell_type": "code",
      "metadata": {
        "id": "urGa0KKpMfB7",
        "colab_type": "code",
        "colab": {}
      },
      "source": [
        "mnist_incorrect_Y = create_incorrect_labels(mnist_full_Y)"
      ],
      "execution_count": 161,
      "outputs": []
    },
    {
      "cell_type": "code",
      "metadata": {
        "id": "plDsUoWRMfEt",
        "colab_type": "code",
        "colab": {}
      },
      "source": [
        "dataset = create_adversarial_dataset_from_model(multi_layer_dense_net, mnist_full_X, mnist_incorrect_Y)"
      ],
      "execution_count": null,
      "outputs": []
    },
    {
      "cell_type": "code",
      "metadata": {
        "id": "C6T1fb24MkCn",
        "colab_type": "code",
        "colab": {}
      },
      "source": [
        "dataset_path = \"./data/mnist_attacked_multilayer_dense\"\n",
        "torch.save(dataset, dataset_path)"
      ],
      "execution_count": 164,
      "outputs": []
    },
    {
      "cell_type": "markdown",
      "metadata": {
        "id": "TFRdRvSJH5S8",
        "colab_type": "text"
      },
      "source": [
        "## Attacking a completely random dataset"
      ]
    },
    {
      "cell_type": "code",
      "metadata": {
        "id": "lNBkI2lBMfRz",
        "colab_type": "code",
        "colab": {}
      },
      "source": [
        "random_dataset = torch.rand_like(mnist_full_X)\n",
        "random_labels = torch.randint_like(mnist_full_Y, 10)"
      ],
      "execution_count": 166,
      "outputs": []
    },
    {
      "cell_type": "code",
      "metadata": {
        "id": "sj6IVu8_28Eo",
        "colab_type": "code",
        "colab": {}
      },
      "source": [
        "dataset = create_adversarial_dataset_from_model(simple_dense_net, random_dataset, random_labels)"
      ],
      "execution_count": null,
      "outputs": []
    },
    {
      "cell_type": "code",
      "metadata": {
        "id": "K5U3wrAy28HC",
        "colab_type": "code",
        "colab": {}
      },
      "source": [
        "dataset_path = \"./data/random_attacked_simple_dense\"\n",
        "torch.save(dataset, dataset_path)"
      ],
      "execution_count": 168,
      "outputs": []
    },
    {
      "cell_type": "markdown",
      "metadata": {
        "id": "A2PrmByY28ZM",
        "colab_type": "text"
      },
      "source": [
        "## Visualizing the attacked datasets"
      ]
    },
    {
      "cell_type": "code",
      "metadata": {
        "id": "UOLG7cl3H8RF",
        "colab_type": "code",
        "colab": {
          "base_uri": "https://localhost:8080/",
          "height": 729
        },
        "outputId": "12b80117-f263-4de2-ba5f-a0b9efe3e57f"
      },
      "source": [
        "images, labels = dataset\n",
        "images, labels = images.cpu(), labels.cpu()\n",
        "r = 5\n",
        "c = 5\n",
        "fig, axes = plt.subplots(r, c, figsize=(2*c,2*r))\n",
        "for i in range(r*c):\n",
        "    ax = axes[i//c, i%c]\n",
        "    ax.imshow(images[i].reshape(28, 28), cmap='gray')\n",
        "    ax.set_title('Label: {}'.format(labels[i]))\n",
        "plt.tight_layout()\n",
        "plt.show()"
      ],
      "execution_count": 180,
      "outputs": [
        {
          "output_type": "display_data",
          "data": {
            "image/png": "[encoded data removed]",
            "text/plain": [
              "<Figure size 720x720 with 25 Axes>"
            ]
          },
          "metadata": {
            "tags": [],
            "needs_background": "light"
          }
        }
      ]
    },
    {
      "cell_type": "markdown",
      "metadata": {
        "id": "N0Ur9D3sLM0c",
        "colab_type": "text"
      },
      "source": [
        "# Training models on attacked datasets"
      ]
    },
    {
      "cell_type": "markdown",
      "metadata": {
        "id": "a_anATVN67MA",
        "colab_type": "text"
      },
      "source": [
        "### Dataset from tensor"
      ]
    },
    {
      "cell_type": "code",
      "metadata": {
        "id": "4Uu5rz9R7QrM",
        "colab_type": "code",
        "colab": {}
      },
      "source": [
        "from torch.utils.data import TensorDataset"
      ],
      "execution_count": 188,
      "outputs": []
    },
    {
      "cell_type": "code",
      "metadata": {
        "id": "grZz-n9l69ke",
        "colab_type": "code",
        "colab": {}
      },
      "source": [
        "datasets = {}\n",
        "dataset_names  = [\"mnist_attacked_conv_net\", \"mnist_attacked_multilayer_dense\", \"mnist_attacked_res_net\", \"mnist_attacked_simple_dense\", \"random_attacked_simple_dense\"]\n",
        "for dataset_name in dataset_names:\n",
        "    X, Y = torch.load(\"./data/\"+dataset_name)\n",
        "    attacked_dataset = TensorDataset(X, Y.long())\n",
        "    attacked_dataset_loader = DataLoader(attacked_dataset, batch_size=32, shuffle=True)\n",
        "    datasets[dataset_name] = attacked_dataset_loader"
      ],
      "execution_count": 225,
      "outputs": []
    },
    {
      "cell_type": "markdown",
      "metadata": {
        "id": "hAdy404d9YlH",
        "colab_type": "text"
      },
      "source": [
        "## Training on attacked datasets"
      ]
    },
    {
      "cell_type": "markdown",
      "metadata": {
        "id": "JIwDJ72KBF-j",
        "colab_type": "text"
      },
      "source": [
        "###Dense nets"
      ]
    },
    {
      "cell_type": "code",
      "metadata": {
        "id": "ywExAky2DWvY",
        "colab_type": "code",
        "colab": {}
      },
      "source": [
        "dense_nets = []\n",
        "for dataset in datasets.values():\n",
        "    model = SimpleDenseNet(hidden_dim=512)\n",
        "    dense_nets.append(model)\n",
        "    train_model(model, dataset, num_epochs=10, lr=1e-4)"
      ],
      "execution_count": null,
      "outputs": []
    },
    {
      "cell_type": "markdown",
      "metadata": {
        "id": "1z10wxUoBckY",
        "colab_type": "text"
      },
      "source": [
        "### Multilayer Dense Nets"
      ]
    },
    {
      "cell_type": "code",
      "metadata": {
        "id": "NHhdZaz6Be4l",
        "colab_type": "code",
        "colab": {}
      },
      "source": [
        "multilayer_dense_nets = []\n",
        "for dataset in datasets.values():\n",
        "    model = MultiLayerDenseNet(hidden_dims=[512, 256, 256])\n",
        "    multilayer_dense_nets.append(model)\n",
        "    train_model(model, dataset, num_epochs=6, lr=0.00003)"
      ],
      "execution_count": null,
      "outputs": []
    },
    {
      "cell_type": "markdown",
      "metadata": {
        "id": "X3xr3WSOCA3B",
        "colab_type": "text"
      },
      "source": [
        "### Conv Nets"
      ]
    },
    {
      "cell_type": "code",
      "metadata": {
        "id": "3Jebhf4oCDUW",
        "colab_type": "code",
        "colab": {}
      },
      "source": [
        "conv_nets = []\n",
        "for dataset in datasets.values():\n",
        "    model = ConvNet()\n",
        "    conv_nets.append(model)\n",
        "    train_model(model, dataset, num_epochs=6, lr=0.001, conv_net=True)"
      ],
      "execution_count": null,
      "outputs": []
    },
    {
      "cell_type": "markdown",
      "metadata": {
        "id": "FN6PkSkbCNs5",
        "colab_type": "text"
      },
      "source": [
        "### Res Nets"
      ]
    },
    {
      "cell_type": "code",
      "metadata": {
        "id": "Yqt7jgzVCOGr",
        "colab_type": "code",
        "colab": {}
      },
      "source": [
        "res_nets = []\n",
        "for dataset in datasets.values():\n",
        "    model = MNISTResNet()\n",
        "    res_nets.append(model)\n",
        "    train_model(model, dataset, num_epochs=3, lr=0.0001, conv_net=True)"
      ],
      "execution_count": null,
      "outputs": []
    },
    {
      "cell_type": "markdown",
      "metadata": {
        "id": "5GQtuy_k9c_8",
        "colab_type": "text"
      },
      "source": [
        "## Now here's the head scratcher"
      ]
    },
    {
      "cell_type": "code",
      "metadata": {
        "id": "eMoL7_Ja979f",
        "colab_type": "code",
        "colab": {
          "base_uri": "https://localhost:8080/",
          "height": 119
        },
        "outputId": "14f24438-b9dc-4f80-a4f4-5cd9a81340ca"
      },
      "source": [
        "print(\"Simple Dense Net Performance\")\n",
        "for model in dense_nets:\n",
        "    test_model(model, mnist_test_loader)"
      ],
      "execution_count": 272,
      "outputs": [
        {
          "output_type": "stream",
          "text": [
            "Simple Dense Net Performance\n",
            "Accuracy: 10.82 %\n",
            "Accuracy: 51.17 %\n",
            "Accuracy: 12.4 %\n",
            "Accuracy: 53.06 %\n",
            "Accuracy: 33.83 %\n"
          ],
          "name": "stdout"
        }
      ]
    },
    {
      "cell_type": "code",
      "metadata": {
        "id": "CIKP5U1i9fX6",
        "colab_type": "code",
        "colab": {
          "base_uri": "https://localhost:8080/",
          "height": 119
        },
        "outputId": "462a8d12-4ad3-44c4-e18e-2b342a059ce7"
      },
      "source": [
        "print(\"MultiLayer Dense Net Performance\")\n",
        "for model in multilayer_dense_nets:\n",
        "    test_model(model, mnist_test_loader)"
      ],
      "execution_count": 273,
      "outputs": [
        {
          "output_type": "stream",
          "text": [
            "MultiLayer Dense Net Performance\n",
            "Accuracy: 11.42 %\n",
            "Accuracy: 51.62 %\n",
            "Accuracy: 11.0 %\n",
            "Accuracy: 33.03 %\n",
            "Accuracy: 26.27 %\n"
          ],
          "name": "stdout"
        }
      ]
    },
    {
      "cell_type": "code",
      "metadata": {
        "id": "JubPTOeL9iVU",
        "colab_type": "code",
        "colab": {
          "base_uri": "https://localhost:8080/",
          "height": 119
        },
        "outputId": "02391db1-e4c1-4f5f-b711-fdba4f70b52e"
      },
      "source": [
        "print(\"Conv Net Performance\")\n",
        "for model in conv_nets:\n",
        "    test_model(model, mnist_test_loader, conv_net=True)"
      ],
      "execution_count": 275,
      "outputs": [
        {
          "output_type": "stream",
          "text": [
            "Conv Net Performance\n",
            "Accuracy: 33.35 %\n",
            "Accuracy: 54.02 %\n",
            "Accuracy: 28.49 %\n",
            "Accuracy: 52.42 %\n",
            "Accuracy: 12.77 %\n"
          ],
          "name": "stdout"
        }
      ]
    },
    {
      "cell_type": "code",
      "metadata": {
        "id": "b1B6R-jvDfoc",
        "colab_type": "code",
        "colab": {
          "base_uri": "https://localhost:8080/",
          "height": 119
        },
        "outputId": "f1862ea6-d119-46ac-efb7-aa0f117d391a"
      },
      "source": [
        "print(\"Res Net Performance\")\n",
        "for model in res_nets:\n",
        "    test_model(model, mnist_test_loader, conv_net=True)"
      ],
      "execution_count": 276,
      "outputs": [
        {
          "output_type": "stream",
          "text": [
            "Res Net Performance\n",
            "Accuracy: 12.18 %\n",
            "Accuracy: 66.38 %\n",
            "Accuracy: 16.39 %\n",
            "Accuracy: 56.83 %\n",
            "Accuracy: 18.69 %\n"
          ],
          "name": "stdout"
        }
      ]
    },
    {
      "cell_type": "markdown",
      "metadata": {
        "id": "h19TrfspHN6L",
        "colab_type": "text"
      },
      "source": [
        "#Take aways"
      ]
    },
    {
      "cell_type": "markdown",
      "metadata": {
        "id": "ehpgX775HSZL",
        "colab_type": "text"
      },
      "source": [
        "This experiment can be repeated with a variety of different hyperparameters, like dataset size, model type, and adversarial attack method. The results in this notebook are not the best results I have gotten - I have seen up to 90% accuracy on the test set using the same scheme, but it takes a lot more adversarial time and training time. \n",
        "\n",
        "\n",
        "The key is that these networks are learning a similar function, and dataset really just defines what the value of this function should be at various points. The points given in the dataset are what we usually use to train our models, but we can sample other points consistent with the function defined by the dataset by training networks, then using adversarial methods. Remember, each of these datasets would look completely wrong to human inspection. But networks work in a different way from the human retina, and these adversarial methods work. A good way to summarize is that you can train a method to perform like another network by teaching it to make the same mistakes. Notice that this goes across model types, and we are getting significantly higher than chance values for convolutional networks trained on datasets generated by dense networks, and vice versa.\n",
        "\n",
        "Further experiments:\n",
        "  - what is the minimum generated dataset size to fully capture the function defined by the original dataset size? (AKA dataset compression)\n",
        "  - various hyperparameters can be changed here, like dataset size, model type, attack method, training data encoding scheme, etc.\n"
      ]
    },
    {
      "cell_type": "code",
      "metadata": {
        "id": "3nBMZUeQJPWE",
        "colab_type": "code",
        "colab": {}
      },
      "source": [
        ""
      ],
      "execution_count": null,
      "outputs": []
    }
  ]
}